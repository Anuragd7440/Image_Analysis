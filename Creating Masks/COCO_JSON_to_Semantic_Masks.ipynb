{
  "cells": [
    {
      "cell_type": "code",
      "execution_count": null,
      "metadata": {
        "id": "VLoRIc7wWL1A"
      },
      "outputs": [],
      "source": []
    },
    {
      "cell_type": "code",
      "execution_count": 1,
      "metadata": {
        "colab": {
          "base_uri": "https://localhost:8080/"
        },
        "id": "PrI27DuiWNX_",
        "outputId": "737552c3-cdf4-4eca-b9b7-c8df5e6d7755"
      },
      "outputs": [
        {
          "name": "stdout",
          "output_type": "stream",
          "text": [
            "Mounted at /content/drive\n"
          ]
        }
      ],
      "source": [
        "# Mount the Google Drive Storage to this notebook\n",
        "\n",
        "from google.colab import drive\n",
        "drive.mount('/content/drive')"
      ]
    },
    {
      "cell_type": "code",
      "execution_count": 2,
      "metadata": {
        "id": "akRlajZxQ3h5"
      },
      "outputs": [],
      "source": [
        "# Importing necessary libraries and modules\n",
        "import zipfile      # Used for extracting zip files\n",
        "import os           # Provides functions to interact with the operating system (colab's)\n",
        "import shutil       # Module used to delete files and directories\n",
        "import json         # Provides functions for working with JSON data\n",
        "import numpy as np  # NumPy, a library for working with arrays and numerical data\n",
        "import cv2          # OpenCV, a library for computer vision tasks"
      ]
    },
    {
      "cell_type": "code",
      "execution_count": 3,
      "metadata": {
        "colab": {
          "base_uri": "https://localhost:8080/"
        },
        "id": "jDW6EQ9EzoUA",
        "outputId": "1d213eaf-ac56-4e33-b72d-9a0a8a35b6be"
      },
      "outputs": [
        {
          "name": "stdout",
          "output_type": "stream",
          "text": [
            "Files extracted to /content\n"
          ]
        }
      ],
      "source": [
        "# Provide the name of your zip file that was uploaded.\n",
        "zip_file_name = '/content/drive/MyDrive/project-1-at-2024-09-05-15-24-8491b307.zip'  # Replace this with the actual file name\n",
        "\n",
        "# Create a directory where the contents of the zip file will be extracted.\n",
        "extract_to_dir = '/content'\n",
        "os.makedirs(extract_to_dir, exist_ok=True)  # This will make sure the directory exists. If it doesn't, it creates it.\n",
        "\n",
        "# Now, let's unzip the file.\n",
        "with zipfile.ZipFile(zip_file_name, 'r') as zip_ref:\n",
        "    zip_ref.extractall(extract_to_dir)  # This extracts everything in the zip file to the specified directory.\n",
        "\n",
        "# Print confirmation that the extraction was successful.\n",
        "print(f'Files extracted to {extract_to_dir}')\n"
      ]
    },
    {
      "cell_type": "code",
      "execution_count": null,
      "metadata": {
        "id": "RrX2wxOo04PR"
      },
      "outputs": [],
      "source": [
        "# This code is uesful only when we want to delete a directory (as it is not manually possible)\n",
        "\n",
        "# Specify the path to the folder you want to delete.\n",
        "folder_path = '/content/semantic_masks'  # Change this to the path of the folder you need to remove.\n",
        "\n",
        "# Delete the folder and everything inside it.\n",
        "shutil.rmtree(folder_path)"
      ]
    },
    {
      "cell_type": "markdown",
      "metadata": {
        "id": "vYycUbNnRZZj"
      },
      "source": [
        "## Main"
      ]
    },
    {
      "cell_type": "code",
      "execution_count": 4,
      "metadata": {
        "id": "s00MAHeNQ1T9"
      },
      "outputs": [],
      "source": [
        "# This part defines the paths for input images, the JSON annotation file, and the output directory\n",
        "# for storing generated semantic masks. It also ensures the output directory exists before proceeding.\n",
        "\n",
        "# Provide your updated paths\n",
        "image_dir = '/content/images'  # Directory with input images\n",
        "json_path = '/content/result.json'  # Path to your JSON file\n",
        "semantic_mask_dir = '/content/semantic_masks/'  # Directory to save semantic segmentation masks\n",
        "\n",
        "# Ensure output directory exists\n",
        "os.makedirs(semantic_mask_dir, exist_ok=True)"
      ]
    },
    {
      "cell_type": "code",
      "execution_count": 5,
      "metadata": {
        "id": "BGxxQZoNRgzi"
      },
      "outputs": [],
      "source": [
        "# In this section, a dictionary is created to map class names to specific grayscale values. These values will\n",
        "# be used to generate the semantic segmentation masks, with each class represented by a unique grayscale value.\n",
        "\n",
        "# Grayscale values for semantic mask (ensuring contrast)\n",
        "grayscale_mapping = {\n",
        "    'Unlabelled': 0,       # Background\n",
        "    'Boundary': 1,         # Edges or boundaries\n",
        "    'Land': 2,             # Land areas\n",
        "    'Poles': 3,           # Poles / Steel Modules\n",
        "    'Solar_Panels': 4      # Solar panels\n",
        "}"
      ]
    },
    {
      "cell_type": "code",
      "execution_count": 6,
      "metadata": {
        "id": "0MYylBXER6OA"
      },
      "outputs": [],
      "source": [
        "# This part loads the annotation data from the COCO-format JSON file and extracts mappings from category IDs to class names.\n",
        "# It also organizes the annotations by image ID for easier access during mask generation.\n",
        "\n",
        "# Load the JSON annotation file\n",
        "with open(json_path) as f:\n",
        "    annotations = json.load(f)\n",
        "\n",
        "# Create a dictionary to map category ids to their names\n",
        "category_mapping = {cat['id']: cat['name'] for cat in annotations['categories']}\n",
        "\n",
        "# Create a dictionary to map image ids to their annotations\n",
        "image_annotations = {}\n",
        "for annotation in annotations['annotations']:\n",
        "    image_id = annotation['image_id']\n",
        "    if image_id not in image_annotations:\n",
        "        image_annotations[image_id] = []\n",
        "    image_annotations[image_id].append(annotation)"
      ]
    },
    {
      "cell_type": "code",
      "execution_count": 7,
      "metadata": {
        "id": "sbLU-eRXRqMC"
      },
      "outputs": [],
      "source": [
        "# This section creates a mapping of image IDs to their respective filenames,\n",
        "# stripping any directory prefixes to ensure correct file handling during the mask generation process.\n",
        "\n",
        "# Create a dictionary to map image ids to their filenames and strip directory prefixes\n",
        "image_mapping = {img['id']: os.path.basename(img['file_name'].replace(\"images\\\\\", \"\")) for img in annotations['images']}"
      ]
    },
    {
      "cell_type": "code",
      "execution_count": null,
      "metadata": {
        "id": "vgtIEt2qT5Q0"
      },
      "outputs": [],
      "source": [
        "# Here, the script loops through each image, loads it, and initializes an empty semantic mask. If the image has annotations,\n",
        "# it processes each polygon (representing a segmented object) and fills in the corresponding areas of the mask using grayscale values\n",
        "# from the grayscale_mapping. The masks and images are then saved with sequentially named filenames.\n",
        "\n",
        "# Loop through all images in the directory and create masks with corresponding names\n",
        "for idx, (image_id, image_file) in enumerate(image_mapping.items(), start=1):\n",
        "    # Construct image path\n",
        "    image_path = os.path.join(image_dir, image_file)\n",
        "\n",
        "    # Ensure the image file exists\n",
        "    if not os.path.exists(image_path):\n",
        "        print(f\"Image file {image_file} not found in {image_dir}. Skipping.\")\n",
        "        continue\n",
        "\n",
        "    # Load the input image\n",
        "    input_image = cv2.imread(image_path)\n",
        "    if input_image is None:\n",
        "        print(f\"Error loading image {image_file}. Skipping.\")\n",
        "        continue\n",
        "    height, width, _ = input_image.shape\n",
        "\n",
        "    # Initialize semantic mask for this image\n",
        "    semantic_mask = np.zeros((height, width), dtype=np.uint8)  # Semantic Segmentation mask\n",
        "\n",
        "    # Get annotations for this image\n",
        "    if image_id in image_annotations:\n",
        "        for annotation in image_annotations[image_id]:\n",
        "            category_id = annotation['category_id']\n",
        "\n",
        "            # Get the class name using category_id\n",
        "            category_name = category_mapping.get(category_id, \"Unknown\")\n",
        "            if category_name == \"Unknown\":\n",
        "                print(f\"Warning: Unknown category_id {category_id} found in annotations.\")\n",
        "            class_gray = grayscale_mapping.get(category_name, 0)  # Default to 0 (black) if class not found\n",
        "\n",
        "            # Convert polygons into a format suitable for drawing\n",
        "            for polygon in annotation['segmentation']:\n",
        "                points = np.array(polygon, dtype=np.int32).reshape((-1, 1, 2))\n",
        "\n",
        "                # Debug print\n",
        "                print(f\"Drawing polygon for category {category_name} with points: {points}\")\n",
        "\n",
        "                # Draw the polygon on the Semantic Segmentation mask with grayscale values\n",
        "                cv2.fillPoly(semantic_mask, [points], class_gray)\n",
        "    else:\n",
        "        print(f\"No annotations found for image_id: {image_id}\")\n",
        "\n",
        "    # Save the semantic mask with a sequential name\n",
        "    new_image_name = f\"image_no{idx}.JPG\"\n",
        "    new_mask_name = f\"image_no{idx}.png\"\n",
        "    new_image_path = os.path.join(image_dir, new_image_name)\n",
        "    semantic_mask_path = os.path.join(semantic_mask_dir, new_mask_name)\n",
        "\n",
        "    # Rename the image file to the sequential name\n",
        "    os.rename(image_path, new_image_path)\n",
        "\n",
        "    # Save the mask\n",
        "    cv2.imwrite(semantic_mask_path, semantic_mask)\n",
        "\n",
        "print(\"Semantic masks created and saved successfully.\")\n",
        "\n",
        "# Download the 'images' and 'semantic_masks' directories into personal computer for further use. "
      ]
    },
    {
      "cell_type": "code",
      "execution_count": null,
      "metadata": {
        "id": "VPRwIYmrpOAE"
      },
      "outputs": [],
      "source": []
    }
  ],
  "metadata": {
    "colab": {
      "provenance": []
    },
    "kernelspec": {
      "display_name": "Python 3",
      "name": "python3"
    },
    "language_info": {
      "name": "python"
    }
  },
  "nbformat": 4,
  "nbformat_minor": 0
}
