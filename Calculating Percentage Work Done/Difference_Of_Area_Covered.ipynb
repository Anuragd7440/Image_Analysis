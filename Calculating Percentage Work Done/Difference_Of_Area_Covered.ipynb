<<<<<<< HEAD
{
  "nbformat": 4,
  "nbformat_minor": 0,
  "metadata": {
    "colab": {
      "provenance": []
    },
    "kernelspec": {
      "name": "python3",
      "display_name": "Python 3"
    },
    "language_info": {
      "name": "python"
    }
  },
  "cells": [
    {
      "cell_type": "code",
      "source": [
        "import cv2\n",
        "import numpy as np"
      ],
      "metadata": {
        "id": "TgwpnBcg6SFG"
      },
      "execution_count": null,
      "outputs": []
    },
    {
      "cell_type": "code",
      "source": [
        "class_colors = {\n",
        "    \"blue (modules)\": (0x2f, 0x36, 0x99),\n",
        "    \"black (panels)\": (0x00, 0x00, 0x00),\n",
        "    \"grey (poles)\": (0xb4, 0xb4, 0xb4),\n",
        "    \"green (land)\": (0x22, 0xb1, 0x4c)\n",
        "}\n",
        "\n",
        "class_work_percentage = {\n",
        "    \"blue (modules)\": 100,\n",
        "    \"black (panels)\": 75,\n",
        "    \"grey (poles)\": 25,\n",
        "    \"green (land)\": 0\n",
        "}"
      ],
      "metadata": {
        "id": "psAOZjhw6Zck"
      },
      "execution_count": null,
      "outputs": []
    },
    {
      "cell_type": "code",
      "source": [
        "def get_unique_pixel_values_and_areas(image_path):\n",
        "    image = cv2.imread(image_path)\n",
        "    if image is None:\n",
        "        raise ValueError(f\"Image at path {image_path} could not be read.\")\n",
        "\n",
        "    pixels = image.reshape(-1, image.shape[-1])\n",
        "\n",
        "    unique_pixels, counts = np.unique(pixels, axis=0, return_counts=True)\n",
        "\n",
        "    pixel_areas = {tuple(pixel): count for pixel, count in zip(unique_pixels, counts)}\n",
        "\n",
        "    return pixel_areas"
      ],
      "metadata": {
        "id": "0Qvu-EAz6cYt"
      },
      "execution_count": null,
      "outputs": []
    },
    {
      "cell_type": "code",
      "source": [
        "def calculate_distance(pixel, color):\n",
        "    return np.sqrt(np.sum((np.array(pixel) - np.array(color)) ** 2))"
      ],
      "metadata": {
        "id": "1f5LavHk6fEM"
      },
      "execution_count": null,
      "outputs": []
    },
    {
      "cell_type": "code",
      "source": [
        "def categorize_pixels(pixel_areas, class_colors):\n",
        "    categorized_areas = {class_name: 0 for class_name in class_colors}\n",
        "\n",
        "    for pixel, area in pixel_areas.items():\n",
        "        distances = {class_name: calculate_distance(pixel, color) for class_name, color in class_colors.items()}\n",
        "        closest_class = min(distances, key=distances.get)\n",
        "        categorized_areas[closest_class] += area\n",
        "\n",
        "    return categorized_areas"
      ],
      "metadata": {
        "id": "rS7H5iuY6gn8"
      },
      "execution_count": null,
      "outputs": []
    },
    {
      "cell_type": "code",
      "source": [
        "def calculate_overall_work_done(image_path):\n",
        "    pixel_areas = get_unique_pixel_values_and_areas(image_path)\n",
        "    categorized_areas = categorize_pixels(pixel_areas, class_colors)\n",
        "\n",
        "    total_area = sum(categorized_areas.values())\n",
        "    weighted_sum = sum(categorized_areas[class_name] * class_work_percentage[class_name] for class_name in class_colors)\n",
        "\n",
        "    overall_work_done = weighted_sum / total_area\n",
        "\n",
        "    return overall_work_done"
      ],
      "metadata": {
        "id": "gUV_vVaR6iJ0"
      },
      "execution_count": null,
      "outputs": []
    },
    {
      "cell_type": "code",
      "source": [
        "def calculate_difference_in_work_done(image1_path, image2_path):\n",
        "    overall_work_done_image1 = calculate_overall_work_done(image1_path)\n",
        "    overall_work_done_image2 = calculate_overall_work_done(image2_path)\n",
        "\n",
        "    difference = overall_work_done_image2 - overall_work_done_image1\n",
        "\n",
        "    return overall_work_done_image1, overall_work_done_image2, difference"
      ],
      "metadata": {
        "id": "06ISbXUb6lcf"
      },
      "execution_count": null,
      "outputs": []
    },
    {
      "cell_type": "code",
      "source": [
        "image1_path = '001.png'  # First image\n",
        "image2_path = '002.png'  # Second image\n",
        "\n",
        "work_done_image1, work_done_image2, work_done_difference = calculate_difference_in_work_done(image1_path, image2_path)\n",
        "\n",
        "print(f\"Overall work done on the project site for the first image: {work_done_image1:.2f}%\")\n",
        "print(f\"Overall work done on the project site for the second image: {work_done_image2:.2f}%\")\n",
        "print(f\"Difference in work done between the two images: {work_done_difference:.2f}%\")"
      ],
      "metadata": {
        "colab": {
          "base_uri": "https://localhost:8080/"
        },
        "id": "7ubYytVM6pRd",
        "outputId": "0affedb9-5830-4585-d311-469cb9795c16"
      },
      "execution_count": null,
      "outputs": [
        {
          "output_type": "stream",
          "name": "stdout",
          "text": [
            "Overall work done on the project site for the first image: 29.71%\n",
            "Overall work done on the project site for the second image: 35.94%\n",
            "Difference in work done between the two images: 6.23%\n"
          ]
        }
      ]
    }
  ]
=======
{
  "nbformat": 4,
  "nbformat_minor": 0,
  "metadata": {
    "colab": {
      "provenance": []
    },
    "kernelspec": {
      "name": "python3",
      "display_name": "Python 3"
    },
    "language_info": {
      "name": "python"
    }
  },
  "cells": [
    {
      "cell_type": "code",
      "source": [
        "import cv2\n",
        "import numpy as np"
      ],
      "metadata": {
        "id": "TgwpnBcg6SFG"
      },
      "execution_count": null,
      "outputs": []
    },
    {
      "cell_type": "code",
      "source": [
        "class_colors = {\n",
        "    \"blue (modules)\": (0x2f, 0x36, 0x99),\n",
        "    \"black (panels)\": (0x00, 0x00, 0x00),\n",
        "    \"grey (poles)\": (0xb4, 0xb4, 0xb4),\n",
        "    \"green (land)\": (0x22, 0xb1, 0x4c)\n",
        "}\n",
        "\n",
        "class_work_percentage = {\n",
        "    \"blue (modules)\": 100,\n",
        "    \"black (panels)\": 75,\n",
        "    \"grey (poles)\": 25,\n",
        "    \"green (land)\": 0\n",
        "}"
      ],
      "metadata": {
        "id": "psAOZjhw6Zck"
      },
      "execution_count": null,
      "outputs": []
    },
    {
      "cell_type": "code",
      "source": [
        "def get_unique_pixel_values_and_areas(image_path):\n",
        "    image = cv2.imread(image_path)\n",
        "    if image is None:\n",
        "        raise ValueError(f\"Image at path {image_path} could not be read.\")\n",
        "\n",
        "    pixels = image.reshape(-1, image.shape[-1])\n",
        "\n",
        "    unique_pixels, counts = np.unique(pixels, axis=0, return_counts=True)\n",
        "\n",
        "    pixel_areas = {tuple(pixel): count for pixel, count in zip(unique_pixels, counts)}\n",
        "\n",
        "    return pixel_areas"
      ],
      "metadata": {
        "id": "0Qvu-EAz6cYt"
      },
      "execution_count": null,
      "outputs": []
    },
    {
      "cell_type": "code",
      "source": [
        "def calculate_distance(pixel, color):\n",
        "    return np.sqrt(np.sum((np.array(pixel) - np.array(color)) ** 2))"
      ],
      "metadata": {
        "id": "1f5LavHk6fEM"
      },
      "execution_count": null,
      "outputs": []
    },
    {
      "cell_type": "code",
      "source": [
        "def categorize_pixels(pixel_areas, class_colors):\n",
        "    categorized_areas = {class_name: 0 for class_name in class_colors}\n",
        "\n",
        "    for pixel, area in pixel_areas.items():\n",
        "        distances = {class_name: calculate_distance(pixel, color) for class_name, color in class_colors.items()}\n",
        "        closest_class = min(distances, key=distances.get)\n",
        "        categorized_areas[closest_class] += area\n",
        "\n",
        "    return categorized_areas"
      ],
      "metadata": {
        "id": "rS7H5iuY6gn8"
      },
      "execution_count": null,
      "outputs": []
    },
    {
      "cell_type": "code",
      "source": [
        "def calculate_overall_work_done(image_path):\n",
        "    pixel_areas = get_unique_pixel_values_and_areas(image_path)\n",
        "    categorized_areas = categorize_pixels(pixel_areas, class_colors)\n",
        "\n",
        "    total_area = sum(categorized_areas.values())\n",
        "    weighted_sum = sum(categorized_areas[class_name] * class_work_percentage[class_name] for class_name in class_colors)\n",
        "\n",
        "    overall_work_done = weighted_sum / total_area\n",
        "\n",
        "    return overall_work_done"
      ],
      "metadata": {
        "id": "gUV_vVaR6iJ0"
      },
      "execution_count": null,
      "outputs": []
    },
    {
      "cell_type": "code",
      "source": [
        "def calculate_difference_in_work_done(image1_path, image2_path):\n",
        "    overall_work_done_image1 = calculate_overall_work_done(image1_path)\n",
        "    overall_work_done_image2 = calculate_overall_work_done(image2_path)\n",
        "\n",
        "    difference = overall_work_done_image2 - overall_work_done_image1\n",
        "\n",
        "    return overall_work_done_image1, overall_work_done_image2, difference"
      ],
      "metadata": {
        "id": "06ISbXUb6lcf"
      },
      "execution_count": null,
      "outputs": []
    },
    {
      "cell_type": "code",
      "source": [
        "image1_path = '001.png'  # First image\n",
        "image2_path = '002.png'  # Second image\n",
        "\n",
        "work_done_image1, work_done_image2, work_done_difference = calculate_difference_in_work_done(image1_path, image2_path)\n",
        "\n",
        "print(f\"Overall work done on the project site for the first image: {work_done_image1:.2f}%\")\n",
        "print(f\"Overall work done on the project site for the second image: {work_done_image2:.2f}%\")\n",
        "print(f\"Difference in work done between the two images: {work_done_difference:.2f}%\")"
      ],
      "metadata": {
        "colab": {
          "base_uri": "https://localhost:8080/"
        },
        "id": "7ubYytVM6pRd",
        "outputId": "0affedb9-5830-4585-d311-469cb9795c16"
      },
      "execution_count": null,
      "outputs": [
        {
          "output_type": "stream",
          "name": "stdout",
          "text": [
            "Overall work done on the project site for the first image: 29.71%\n",
            "Overall work done on the project site for the second image: 35.94%\n",
            "Difference in work done between the two images: 6.23%\n"
          ]
        }
      ]
    }
  ]
>>>>>>> ac0d30a (Image Analysis Project)
}